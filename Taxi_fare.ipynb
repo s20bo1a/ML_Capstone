{
 "cells": [
  {
   "cell_type": "markdown",
   "id": "8addd382",
   "metadata": {},
   "source": [
    "# Problem Statement"
   ]
  },
  {
   "cell_type": "markdown",
   "id": "88ba0a7c",
   "metadata": {},
   "source": [
    "## Taxi_Fare Prediction\n"
   ]
  },
  {
   "cell_type": "markdown",
   "id": "76cd92d6",
   "metadata": {},
   "source": [
    "### Dataset Description"
   ]
  },
  {
   "cell_type": "markdown",
   "id": "0874e10b",
   "metadata": {},
   "source": [
    "Predicting the fare amount (inclusive of tolls) for a taxi ride in New York City given the pickup and dropoff locations. Based on distance travelled from one place to another place could be some reliable costs.The aim of this playground competition, hosted in partnership with Google Cloud and Coursera, is to predict the fare amount (inclusive of tolls) for a taxi ride in New York City given the pickup and dropoff locations."
   ]
  },
  {
   "cell_type": "markdown",
   "id": "bf8f9c47",
   "metadata": {},
   "source": [
    "### Data Attributes"
   ]
  },
  {
   "cell_type": "markdown",
   "id": "807d00f9",
   "metadata": {},
   "source": [
    " 1.unique_id             \n",
    " 2.amount                \n",
    " 3.date_time_of_pickup    \n",
    " 4.longitude_of_pickup   \n",
    " 5.latitude_of_pickup    \n",
    " 6.longitude_of_dropoff  \n",
    " 7.latitude_of_dropoff   \n",
    " 8. no_of_passenger "
   ]
  },
  {
   "cell_type": "markdown",
   "id": "9749fd7f",
   "metadata": {},
   "source": [
    "## Importing Essential Libraries"
   ]
  },
  {
   "cell_type": "code",
   "execution_count": 1,
   "id": "f2505647",
   "metadata": {},
   "outputs": [],
   "source": [
    "import numpy as np\n",
    "import pandas as pd\n",
    "import matplotlib.pyplot as plt\n",
    "%matplotlib inline\n",
    "import seaborn as sns \n",
    "from sklearn.model_selection import train_test_split \n",
    "from sklearn.ensemble import GradientBoostingRegressor\n",
    "from sklearn.ensemble import AdaBoostRegressor\n",
    "from sklearn.ensemble import RandomForestRegressor \n",
    "from sklearn.svm import SVR\n",
    "from sklearn.tree import DecisionTreeRegressor\n",
    "import warnings \n",
    "warnings.filterwarnings('ignore')"
   ]
  },
  {
   "cell_type": "markdown",
   "id": "07188126",
   "metadata": {},
   "source": [
    "## Loading the Dataset"
   ]
  },
  {
   "cell_type": "code",
   "execution_count": 2,
   "id": "74eeeb50",
   "metadata": {},
   "outputs": [
    {
     "data": {
      "text/html": [
       "<div>\n",
       "<style scoped>\n",
       "    .dataframe tbody tr th:only-of-type {\n",
       "        vertical-align: middle;\n",
       "    }\n",
       "\n",
       "    .dataframe tbody tr th {\n",
       "        vertical-align: top;\n",
       "    }\n",
       "\n",
       "    .dataframe thead th {\n",
       "        text-align: right;\n",
       "    }\n",
       "</style>\n",
       "<table border=\"1\" class=\"dataframe\">\n",
       "  <thead>\n",
       "    <tr style=\"text-align: right;\">\n",
       "      <th></th>\n",
       "      <th>unique_id</th>\n",
       "      <th>amount</th>\n",
       "      <th>date_time_of_pickup</th>\n",
       "      <th>longitude_of_pickup</th>\n",
       "      <th>latitude_of_pickup</th>\n",
       "      <th>longitude_of_dropoff</th>\n",
       "      <th>latitude_of_dropoff</th>\n",
       "      <th>no_of_passenger</th>\n",
       "    </tr>\n",
       "  </thead>\n",
       "  <tbody>\n",
       "    <tr>\n",
       "      <th>0</th>\n",
       "      <td>26:21.0</td>\n",
       "      <td>4.5</td>\n",
       "      <td>2009-06-15 17:26:21 UTC</td>\n",
       "      <td>-73.844311</td>\n",
       "      <td>40.721319</td>\n",
       "      <td>-73.841610</td>\n",
       "      <td>40.712278</td>\n",
       "      <td>1</td>\n",
       "    </tr>\n",
       "    <tr>\n",
       "      <th>1</th>\n",
       "      <td>52:16.0</td>\n",
       "      <td>16.9</td>\n",
       "      <td>2010-01-05 16:52:16 UTC</td>\n",
       "      <td>-74.016048</td>\n",
       "      <td>40.711303</td>\n",
       "      <td>-73.979268</td>\n",
       "      <td>40.782004</td>\n",
       "      <td>1</td>\n",
       "    </tr>\n",
       "    <tr>\n",
       "      <th>2</th>\n",
       "      <td>35:00.0</td>\n",
       "      <td>5.7</td>\n",
       "      <td>2011-08-18 00:35:00 UTC</td>\n",
       "      <td>-73.982738</td>\n",
       "      <td>40.761270</td>\n",
       "      <td>-73.991242</td>\n",
       "      <td>40.750562</td>\n",
       "      <td>2</td>\n",
       "    </tr>\n",
       "    <tr>\n",
       "      <th>3</th>\n",
       "      <td>30:42.0</td>\n",
       "      <td>7.7</td>\n",
       "      <td>2012-04-21 04:30:42 UTC</td>\n",
       "      <td>-73.987130</td>\n",
       "      <td>40.733143</td>\n",
       "      <td>-73.991567</td>\n",
       "      <td>40.758092</td>\n",
       "      <td>1</td>\n",
       "    </tr>\n",
       "    <tr>\n",
       "      <th>4</th>\n",
       "      <td>51:00.0</td>\n",
       "      <td>5.3</td>\n",
       "      <td>2010-03-09 07:51:00 UTC</td>\n",
       "      <td>-73.968095</td>\n",
       "      <td>40.768008</td>\n",
       "      <td>-73.956655</td>\n",
       "      <td>40.783762</td>\n",
       "      <td>1</td>\n",
       "    </tr>\n",
       "    <tr>\n",
       "      <th>...</th>\n",
       "      <td>...</td>\n",
       "      <td>...</td>\n",
       "      <td>...</td>\n",
       "      <td>...</td>\n",
       "      <td>...</td>\n",
       "      <td>...</td>\n",
       "      <td>...</td>\n",
       "      <td>...</td>\n",
       "    </tr>\n",
       "    <tr>\n",
       "      <th>49995</th>\n",
       "      <td>25:15.0</td>\n",
       "      <td>15.0</td>\n",
       "      <td>2013-06-12 23:25:15 UTC</td>\n",
       "      <td>-73.999973</td>\n",
       "      <td>40.748531</td>\n",
       "      <td>-74.016899</td>\n",
       "      <td>40.705993</td>\n",
       "      <td>1</td>\n",
       "    </tr>\n",
       "    <tr>\n",
       "      <th>49996</th>\n",
       "      <td>19:18.0</td>\n",
       "      <td>7.5</td>\n",
       "      <td>2015-06-22 17:19:18 UTC</td>\n",
       "      <td>-73.984756</td>\n",
       "      <td>40.768211</td>\n",
       "      <td>-73.987366</td>\n",
       "      <td>40.760597</td>\n",
       "      <td>1</td>\n",
       "    </tr>\n",
       "    <tr>\n",
       "      <th>49997</th>\n",
       "      <td>53:00.0</td>\n",
       "      <td>6.9</td>\n",
       "      <td>2011-01-30 04:53:00 UTC</td>\n",
       "      <td>-74.002698</td>\n",
       "      <td>40.739428</td>\n",
       "      <td>-73.998108</td>\n",
       "      <td>40.759483</td>\n",
       "      <td>1</td>\n",
       "    </tr>\n",
       "    <tr>\n",
       "      <th>49998</th>\n",
       "      <td>09:00.0</td>\n",
       "      <td>4.5</td>\n",
       "      <td>2012-11-06 07:09:00 UTC</td>\n",
       "      <td>-73.946062</td>\n",
       "      <td>40.777567</td>\n",
       "      <td>-73.953450</td>\n",
       "      <td>40.779687</td>\n",
       "      <td>2</td>\n",
       "    </tr>\n",
       "    <tr>\n",
       "      <th>49999</th>\n",
       "      <td>13:14.0</td>\n",
       "      <td>10.9</td>\n",
       "      <td>2010-01-13 08:13:14 UTC</td>\n",
       "      <td>-73.932603</td>\n",
       "      <td>40.763805</td>\n",
       "      <td>-73.932603</td>\n",
       "      <td>40.763805</td>\n",
       "      <td>1</td>\n",
       "    </tr>\n",
       "  </tbody>\n",
       "</table>\n",
       "<p>50000 rows × 8 columns</p>\n",
       "</div>"
      ],
      "text/plain": [
       "      unique_id  amount      date_time_of_pickup  longitude_of_pickup  \\\n",
       "0       26:21.0     4.5  2009-06-15 17:26:21 UTC           -73.844311   \n",
       "1       52:16.0    16.9  2010-01-05 16:52:16 UTC           -74.016048   \n",
       "2       35:00.0     5.7  2011-08-18 00:35:00 UTC           -73.982738   \n",
       "3       30:42.0     7.7  2012-04-21 04:30:42 UTC           -73.987130   \n",
       "4       51:00.0     5.3  2010-03-09 07:51:00 UTC           -73.968095   \n",
       "...         ...     ...                      ...                  ...   \n",
       "49995   25:15.0    15.0  2013-06-12 23:25:15 UTC           -73.999973   \n",
       "49996   19:18.0     7.5  2015-06-22 17:19:18 UTC           -73.984756   \n",
       "49997   53:00.0     6.9  2011-01-30 04:53:00 UTC           -74.002698   \n",
       "49998   09:00.0     4.5  2012-11-06 07:09:00 UTC           -73.946062   \n",
       "49999   13:14.0    10.9  2010-01-13 08:13:14 UTC           -73.932603   \n",
       "\n",
       "       latitude_of_pickup  longitude_of_dropoff  latitude_of_dropoff  \\\n",
       "0               40.721319            -73.841610            40.712278   \n",
       "1               40.711303            -73.979268            40.782004   \n",
       "2               40.761270            -73.991242            40.750562   \n",
       "3               40.733143            -73.991567            40.758092   \n",
       "4               40.768008            -73.956655            40.783762   \n",
       "...                   ...                   ...                  ...   \n",
       "49995           40.748531            -74.016899            40.705993   \n",
       "49996           40.768211            -73.987366            40.760597   \n",
       "49997           40.739428            -73.998108            40.759483   \n",
       "49998           40.777567            -73.953450            40.779687   \n",
       "49999           40.763805            -73.932603            40.763805   \n",
       "\n",
       "       no_of_passenger  \n",
       "0                    1  \n",
       "1                    1  \n",
       "2                    2  \n",
       "3                    1  \n",
       "4                    1  \n",
       "...                ...  \n",
       "49995                1  \n",
       "49996                1  \n",
       "49997                1  \n",
       "49998                2  \n",
       "49999                1  \n",
       "\n",
       "[50000 rows x 8 columns]"
      ]
     },
     "execution_count": 2,
     "metadata": {},
     "output_type": "execute_result"
    }
   ],
   "source": [
    "df=pd.read_csv('https://raw.githubusercontent.com/Premalatha-success/Datasets/main/TaxiFare.csv')\n",
    "df"
   ]
  },
  {
   "cell_type": "code",
   "execution_count": 3,
   "id": "63197661",
   "metadata": {},
   "outputs": [
    {
     "data": {
      "text/html": [
       "<div>\n",
       "<style scoped>\n",
       "    .dataframe tbody tr th:only-of-type {\n",
       "        vertical-align: middle;\n",
       "    }\n",
       "\n",
       "    .dataframe tbody tr th {\n",
       "        vertical-align: top;\n",
       "    }\n",
       "\n",
       "    .dataframe thead th {\n",
       "        text-align: right;\n",
       "    }\n",
       "</style>\n",
       "<table border=\"1\" class=\"dataframe\">\n",
       "  <thead>\n",
       "    <tr style=\"text-align: right;\">\n",
       "      <th></th>\n",
       "      <th>unique_id</th>\n",
       "      <th>amount</th>\n",
       "      <th>date_time_of_pickup</th>\n",
       "      <th>longitude_of_pickup</th>\n",
       "      <th>latitude_of_pickup</th>\n",
       "      <th>longitude_of_dropoff</th>\n",
       "      <th>latitude_of_dropoff</th>\n",
       "      <th>no_of_passenger</th>\n",
       "    </tr>\n",
       "  </thead>\n",
       "  <tbody>\n",
       "    <tr>\n",
       "      <th>0</th>\n",
       "      <td>26:21.0</td>\n",
       "      <td>4.5</td>\n",
       "      <td>2009-06-15 17:26:21 UTC</td>\n",
       "      <td>-73.844311</td>\n",
       "      <td>40.721319</td>\n",
       "      <td>-73.841610</td>\n",
       "      <td>40.712278</td>\n",
       "      <td>1</td>\n",
       "    </tr>\n",
       "    <tr>\n",
       "      <th>1</th>\n",
       "      <td>52:16.0</td>\n",
       "      <td>16.9</td>\n",
       "      <td>2010-01-05 16:52:16 UTC</td>\n",
       "      <td>-74.016048</td>\n",
       "      <td>40.711303</td>\n",
       "      <td>-73.979268</td>\n",
       "      <td>40.782004</td>\n",
       "      <td>1</td>\n",
       "    </tr>\n",
       "    <tr>\n",
       "      <th>2</th>\n",
       "      <td>35:00.0</td>\n",
       "      <td>5.7</td>\n",
       "      <td>2011-08-18 00:35:00 UTC</td>\n",
       "      <td>-73.982738</td>\n",
       "      <td>40.761270</td>\n",
       "      <td>-73.991242</td>\n",
       "      <td>40.750562</td>\n",
       "      <td>2</td>\n",
       "    </tr>\n",
       "    <tr>\n",
       "      <th>3</th>\n",
       "      <td>30:42.0</td>\n",
       "      <td>7.7</td>\n",
       "      <td>2012-04-21 04:30:42 UTC</td>\n",
       "      <td>-73.987130</td>\n",
       "      <td>40.733143</td>\n",
       "      <td>-73.991567</td>\n",
       "      <td>40.758092</td>\n",
       "      <td>1</td>\n",
       "    </tr>\n",
       "    <tr>\n",
       "      <th>4</th>\n",
       "      <td>51:00.0</td>\n",
       "      <td>5.3</td>\n",
       "      <td>2010-03-09 07:51:00 UTC</td>\n",
       "      <td>-73.968095</td>\n",
       "      <td>40.768008</td>\n",
       "      <td>-73.956655</td>\n",
       "      <td>40.783762</td>\n",
       "      <td>1</td>\n",
       "    </tr>\n",
       "  </tbody>\n",
       "</table>\n",
       "</div>"
      ],
      "text/plain": [
       "  unique_id  amount      date_time_of_pickup  longitude_of_pickup  \\\n",
       "0   26:21.0     4.5  2009-06-15 17:26:21 UTC           -73.844311   \n",
       "1   52:16.0    16.9  2010-01-05 16:52:16 UTC           -74.016048   \n",
       "2   35:00.0     5.7  2011-08-18 00:35:00 UTC           -73.982738   \n",
       "3   30:42.0     7.7  2012-04-21 04:30:42 UTC           -73.987130   \n",
       "4   51:00.0     5.3  2010-03-09 07:51:00 UTC           -73.968095   \n",
       "\n",
       "   latitude_of_pickup  longitude_of_dropoff  latitude_of_dropoff  \\\n",
       "0           40.721319            -73.841610            40.712278   \n",
       "1           40.711303            -73.979268            40.782004   \n",
       "2           40.761270            -73.991242            40.750562   \n",
       "3           40.733143            -73.991567            40.758092   \n",
       "4           40.768008            -73.956655            40.783762   \n",
       "\n",
       "   no_of_passenger  \n",
       "0                1  \n",
       "1                1  \n",
       "2                2  \n",
       "3                1  \n",
       "4                1  "
      ]
     },
     "execution_count": 3,
     "metadata": {},
     "output_type": "execute_result"
    }
   ],
   "source": [
    "df.head()"
   ]
  },
  {
   "cell_type": "code",
   "execution_count": 4,
   "id": "e86f7d98",
   "metadata": {},
   "outputs": [
    {
     "data": {
      "text/plain": [
       "(50000, 8)"
      ]
     },
     "execution_count": 4,
     "metadata": {},
     "output_type": "execute_result"
    }
   ],
   "source": [
    "df.shape"
   ]
  },
  {
   "cell_type": "code",
   "execution_count": 5,
   "id": "173d2820",
   "metadata": {},
   "outputs": [
    {
     "data": {
      "text/plain": [
       "Index(['unique_id', 'amount', 'date_time_of_pickup', 'longitude_of_pickup',\n",
       "       'latitude_of_pickup', 'longitude_of_dropoff', 'latitude_of_dropoff',\n",
       "       'no_of_passenger'],\n",
       "      dtype='object')"
      ]
     },
     "execution_count": 5,
     "metadata": {},
     "output_type": "execute_result"
    }
   ],
   "source": [
    "df.columns"
   ]
  },
  {
   "cell_type": "code",
   "execution_count": 6,
   "id": "bdbe7322",
   "metadata": {},
   "outputs": [
    {
     "name": "stdout",
     "output_type": "stream",
     "text": [
      "<class 'pandas.core.frame.DataFrame'>\n",
      "RangeIndex: 50000 entries, 0 to 49999\n",
      "Data columns (total 8 columns):\n",
      " #   Column                Non-Null Count  Dtype  \n",
      "---  ------                --------------  -----  \n",
      " 0   unique_id             50000 non-null  object \n",
      " 1   amount                50000 non-null  float64\n",
      " 2   date_time_of_pickup   50000 non-null  object \n",
      " 3   longitude_of_pickup   50000 non-null  float64\n",
      " 4   latitude_of_pickup    50000 non-null  float64\n",
      " 5   longitude_of_dropoff  50000 non-null  float64\n",
      " 6   latitude_of_dropoff   50000 non-null  float64\n",
      " 7   no_of_passenger       50000 non-null  int64  \n",
      "dtypes: float64(5), int64(1), object(2)\n",
      "memory usage: 3.1+ MB\n"
     ]
    }
   ],
   "source": [
    "df.info()"
   ]
  },
  {
   "cell_type": "code",
   "execution_count": 7,
   "id": "4361811b",
   "metadata": {},
   "outputs": [
    {
     "data": {
      "text/html": [
       "<div>\n",
       "<style scoped>\n",
       "    .dataframe tbody tr th:only-of-type {\n",
       "        vertical-align: middle;\n",
       "    }\n",
       "\n",
       "    .dataframe tbody tr th {\n",
       "        vertical-align: top;\n",
       "    }\n",
       "\n",
       "    .dataframe thead th {\n",
       "        text-align: right;\n",
       "    }\n",
       "</style>\n",
       "<table border=\"1\" class=\"dataframe\">\n",
       "  <thead>\n",
       "    <tr style=\"text-align: right;\">\n",
       "      <th></th>\n",
       "      <th>amount</th>\n",
       "      <th>longitude_of_pickup</th>\n",
       "      <th>latitude_of_pickup</th>\n",
       "      <th>longitude_of_dropoff</th>\n",
       "      <th>latitude_of_dropoff</th>\n",
       "      <th>no_of_passenger</th>\n",
       "    </tr>\n",
       "  </thead>\n",
       "  <tbody>\n",
       "    <tr>\n",
       "      <th>count</th>\n",
       "      <td>50000.000000</td>\n",
       "      <td>50000.000000</td>\n",
       "      <td>50000.000000</td>\n",
       "      <td>50000.000000</td>\n",
       "      <td>50000.000000</td>\n",
       "      <td>50000.000000</td>\n",
       "    </tr>\n",
       "    <tr>\n",
       "      <th>mean</th>\n",
       "      <td>11.364171</td>\n",
       "      <td>-72.509756</td>\n",
       "      <td>39.933759</td>\n",
       "      <td>-72.504616</td>\n",
       "      <td>39.926251</td>\n",
       "      <td>1.667840</td>\n",
       "    </tr>\n",
       "    <tr>\n",
       "      <th>std</th>\n",
       "      <td>9.685557</td>\n",
       "      <td>10.393860</td>\n",
       "      <td>6.224857</td>\n",
       "      <td>10.407570</td>\n",
       "      <td>6.014737</td>\n",
       "      <td>1.289195</td>\n",
       "    </tr>\n",
       "    <tr>\n",
       "      <th>min</th>\n",
       "      <td>-5.000000</td>\n",
       "      <td>-75.423848</td>\n",
       "      <td>-74.006893</td>\n",
       "      <td>-84.654241</td>\n",
       "      <td>-74.006377</td>\n",
       "      <td>0.000000</td>\n",
       "    </tr>\n",
       "    <tr>\n",
       "      <th>25%</th>\n",
       "      <td>6.000000</td>\n",
       "      <td>-73.992062</td>\n",
       "      <td>40.734880</td>\n",
       "      <td>-73.991152</td>\n",
       "      <td>40.734372</td>\n",
       "      <td>1.000000</td>\n",
       "    </tr>\n",
       "    <tr>\n",
       "      <th>50%</th>\n",
       "      <td>8.500000</td>\n",
       "      <td>-73.981840</td>\n",
       "      <td>40.752678</td>\n",
       "      <td>-73.980082</td>\n",
       "      <td>40.753372</td>\n",
       "      <td>1.000000</td>\n",
       "    </tr>\n",
       "    <tr>\n",
       "      <th>75%</th>\n",
       "      <td>12.500000</td>\n",
       "      <td>-73.967148</td>\n",
       "      <td>40.767360</td>\n",
       "      <td>-73.963584</td>\n",
       "      <td>40.768167</td>\n",
       "      <td>2.000000</td>\n",
       "    </tr>\n",
       "    <tr>\n",
       "      <th>max</th>\n",
       "      <td>200.000000</td>\n",
       "      <td>40.783472</td>\n",
       "      <td>401.083332</td>\n",
       "      <td>40.851027</td>\n",
       "      <td>43.415190</td>\n",
       "      <td>6.000000</td>\n",
       "    </tr>\n",
       "  </tbody>\n",
       "</table>\n",
       "</div>"
      ],
      "text/plain": [
       "             amount  longitude_of_pickup  latitude_of_pickup  \\\n",
       "count  50000.000000         50000.000000        50000.000000   \n",
       "mean      11.364171           -72.509756           39.933759   \n",
       "std        9.685557            10.393860            6.224857   \n",
       "min       -5.000000           -75.423848          -74.006893   \n",
       "25%        6.000000           -73.992062           40.734880   \n",
       "50%        8.500000           -73.981840           40.752678   \n",
       "75%       12.500000           -73.967148           40.767360   \n",
       "max      200.000000            40.783472          401.083332   \n",
       "\n",
       "       longitude_of_dropoff  latitude_of_dropoff  no_of_passenger  \n",
       "count          50000.000000         50000.000000     50000.000000  \n",
       "mean             -72.504616            39.926251         1.667840  \n",
       "std               10.407570             6.014737         1.289195  \n",
       "min              -84.654241           -74.006377         0.000000  \n",
       "25%              -73.991152            40.734372         1.000000  \n",
       "50%              -73.980082            40.753372         1.000000  \n",
       "75%              -73.963584            40.768167         2.000000  \n",
       "max               40.851027            43.415190         6.000000  "
      ]
     },
     "execution_count": 7,
     "metadata": {},
     "output_type": "execute_result"
    }
   ],
   "source": [
    "df.describe()"
   ]
  },
  {
   "cell_type": "code",
   "execution_count": 8,
   "id": "968609bb",
   "metadata": {
    "scrolled": true
   },
   "outputs": [
    {
     "data": {
      "text/html": [
       "<div>\n",
       "<style scoped>\n",
       "    .dataframe tbody tr th:only-of-type {\n",
       "        vertical-align: middle;\n",
       "    }\n",
       "\n",
       "    .dataframe tbody tr th {\n",
       "        vertical-align: top;\n",
       "    }\n",
       "\n",
       "    .dataframe thead th {\n",
       "        text-align: right;\n",
       "    }\n",
       "</style>\n",
       "<table border=\"1\" class=\"dataframe\">\n",
       "  <thead>\n",
       "    <tr style=\"text-align: right;\">\n",
       "      <th></th>\n",
       "      <th>unique_id</th>\n",
       "      <th>amount</th>\n",
       "      <th>date_time_of_pickup</th>\n",
       "      <th>longitude_of_pickup</th>\n",
       "      <th>latitude_of_pickup</th>\n",
       "      <th>longitude_of_dropoff</th>\n",
       "      <th>latitude_of_dropoff</th>\n",
       "      <th>no_of_passenger</th>\n",
       "    </tr>\n",
       "  </thead>\n",
       "  <tbody>\n",
       "    <tr>\n",
       "      <th>count</th>\n",
       "      <td>50000</td>\n",
       "      <td>50000.000000</td>\n",
       "      <td>50000</td>\n",
       "      <td>50000.000000</td>\n",
       "      <td>50000.000000</td>\n",
       "      <td>50000.000000</td>\n",
       "      <td>50000.000000</td>\n",
       "      <td>50000.000000</td>\n",
       "    </tr>\n",
       "    <tr>\n",
       "      <th>unique</th>\n",
       "      <td>3597</td>\n",
       "      <td>NaN</td>\n",
       "      <td>49555</td>\n",
       "      <td>NaN</td>\n",
       "      <td>NaN</td>\n",
       "      <td>NaN</td>\n",
       "      <td>NaN</td>\n",
       "      <td>NaN</td>\n",
       "    </tr>\n",
       "    <tr>\n",
       "      <th>top</th>\n",
       "      <td>26:00.0</td>\n",
       "      <td>NaN</td>\n",
       "      <td>2011-09-03 01:30:00 UTC</td>\n",
       "      <td>NaN</td>\n",
       "      <td>NaN</td>\n",
       "      <td>NaN</td>\n",
       "      <td>NaN</td>\n",
       "      <td>NaN</td>\n",
       "    </tr>\n",
       "    <tr>\n",
       "      <th>freq</th>\n",
       "      <td>457</td>\n",
       "      <td>NaN</td>\n",
       "      <td>3</td>\n",
       "      <td>NaN</td>\n",
       "      <td>NaN</td>\n",
       "      <td>NaN</td>\n",
       "      <td>NaN</td>\n",
       "      <td>NaN</td>\n",
       "    </tr>\n",
       "    <tr>\n",
       "      <th>mean</th>\n",
       "      <td>NaN</td>\n",
       "      <td>11.364171</td>\n",
       "      <td>NaN</td>\n",
       "      <td>-72.509756</td>\n",
       "      <td>39.933759</td>\n",
       "      <td>-72.504616</td>\n",
       "      <td>39.926251</td>\n",
       "      <td>1.667840</td>\n",
       "    </tr>\n",
       "    <tr>\n",
       "      <th>std</th>\n",
       "      <td>NaN</td>\n",
       "      <td>9.685557</td>\n",
       "      <td>NaN</td>\n",
       "      <td>10.393860</td>\n",
       "      <td>6.224857</td>\n",
       "      <td>10.407570</td>\n",
       "      <td>6.014737</td>\n",
       "      <td>1.289195</td>\n",
       "    </tr>\n",
       "    <tr>\n",
       "      <th>min</th>\n",
       "      <td>NaN</td>\n",
       "      <td>-5.000000</td>\n",
       "      <td>NaN</td>\n",
       "      <td>-75.423848</td>\n",
       "      <td>-74.006893</td>\n",
       "      <td>-84.654241</td>\n",
       "      <td>-74.006377</td>\n",
       "      <td>0.000000</td>\n",
       "    </tr>\n",
       "    <tr>\n",
       "      <th>25%</th>\n",
       "      <td>NaN</td>\n",
       "      <td>6.000000</td>\n",
       "      <td>NaN</td>\n",
       "      <td>-73.992062</td>\n",
       "      <td>40.734880</td>\n",
       "      <td>-73.991152</td>\n",
       "      <td>40.734372</td>\n",
       "      <td>1.000000</td>\n",
       "    </tr>\n",
       "    <tr>\n",
       "      <th>50%</th>\n",
       "      <td>NaN</td>\n",
       "      <td>8.500000</td>\n",
       "      <td>NaN</td>\n",
       "      <td>-73.981840</td>\n",
       "      <td>40.752678</td>\n",
       "      <td>-73.980082</td>\n",
       "      <td>40.753372</td>\n",
       "      <td>1.000000</td>\n",
       "    </tr>\n",
       "    <tr>\n",
       "      <th>75%</th>\n",
       "      <td>NaN</td>\n",
       "      <td>12.500000</td>\n",
       "      <td>NaN</td>\n",
       "      <td>-73.967148</td>\n",
       "      <td>40.767360</td>\n",
       "      <td>-73.963584</td>\n",
       "      <td>40.768167</td>\n",
       "      <td>2.000000</td>\n",
       "    </tr>\n",
       "    <tr>\n",
       "      <th>max</th>\n",
       "      <td>NaN</td>\n",
       "      <td>200.000000</td>\n",
       "      <td>NaN</td>\n",
       "      <td>40.783472</td>\n",
       "      <td>401.083332</td>\n",
       "      <td>40.851027</td>\n",
       "      <td>43.415190</td>\n",
       "      <td>6.000000</td>\n",
       "    </tr>\n",
       "  </tbody>\n",
       "</table>\n",
       "</div>"
      ],
      "text/plain": [
       "       unique_id        amount      date_time_of_pickup  longitude_of_pickup  \\\n",
       "count      50000  50000.000000                    50000         50000.000000   \n",
       "unique      3597           NaN                    49555                  NaN   \n",
       "top      26:00.0           NaN  2011-09-03 01:30:00 UTC                  NaN   \n",
       "freq         457           NaN                        3                  NaN   \n",
       "mean         NaN     11.364171                      NaN           -72.509756   \n",
       "std          NaN      9.685557                      NaN            10.393860   \n",
       "min          NaN     -5.000000                      NaN           -75.423848   \n",
       "25%          NaN      6.000000                      NaN           -73.992062   \n",
       "50%          NaN      8.500000                      NaN           -73.981840   \n",
       "75%          NaN     12.500000                      NaN           -73.967148   \n",
       "max          NaN    200.000000                      NaN            40.783472   \n",
       "\n",
       "        latitude_of_pickup  longitude_of_dropoff  latitude_of_dropoff  \\\n",
       "count         50000.000000          50000.000000         50000.000000   \n",
       "unique                 NaN                   NaN                  NaN   \n",
       "top                    NaN                   NaN                  NaN   \n",
       "freq                   NaN                   NaN                  NaN   \n",
       "mean             39.933759            -72.504616            39.926251   \n",
       "std               6.224857             10.407570             6.014737   \n",
       "min             -74.006893            -84.654241           -74.006377   \n",
       "25%              40.734880            -73.991152            40.734372   \n",
       "50%              40.752678            -73.980082            40.753372   \n",
       "75%              40.767360            -73.963584            40.768167   \n",
       "max             401.083332             40.851027            43.415190   \n",
       "\n",
       "        no_of_passenger  \n",
       "count      50000.000000  \n",
       "unique              NaN  \n",
       "top                 NaN  \n",
       "freq                NaN  \n",
       "mean           1.667840  \n",
       "std            1.289195  \n",
       "min            0.000000  \n",
       "25%            1.000000  \n",
       "50%            1.000000  \n",
       "75%            2.000000  \n",
       "max            6.000000  "
      ]
     },
     "execution_count": 8,
     "metadata": {},
     "output_type": "execute_result"
    }
   ],
   "source": [
    "df.describe(include='all')"
   ]
  },
  {
   "cell_type": "markdown",
   "id": "b0af4687",
   "metadata": {},
   "source": [
    "# Data Visualization"
   ]
  },
  {
   "cell_type": "code",
   "execution_count": 9,
   "id": "102e1eda",
   "metadata": {},
   "outputs": [
    {
     "data": {
      "image/png": "[encoded data removed]",
      "text/plain": [
       "<Figure size 1152x504 with 1 Axes>"
      ]
     },
     "metadata": {
      "needs_background": "light"
     },
     "output_type": "display_data"
    }
   ],
   "source": [
    "plt.figure(figsize=(16,7))\n",
    "\n",
    "sns.kdeplot(x=df['amount'], shade=True, color='blue')\n",
    "plt.title('Distribution of fare_amount')\n",
    "plt.show()"
   ]
  },
  {
   "cell_type": "code",
   "execution_count": 10,
   "id": "4086a34f",
   "metadata": {},
   "outputs": [
    {
     "data": {
      "text/plain": [
       "<seaborn.axisgrid.FacetGrid at 0x16d5014eee0>"
      ]
     },
     "execution_count": 10,
     "metadata": {},
     "output_type": "execute_result"
    },
    {
     "data": {
      "image/png": "[encoded data removed]",
      "text/plain": [
       "<Figure size 360x360 with 1 Axes>"
      ]
     },
     "metadata": {
      "needs_background": "light"
     },
     "output_type": "display_data"
    }
   ],
   "source": [
    "sns.relplot(data=df, x=\"amount\", y=\"no_of_passenger\")"
   ]
  },
  {
   "cell_type": "code",
   "execution_count": null,
   "id": "8e5b7e3a",
   "metadata": {},
   "outputs": [],
   "source": [
    "#sns.catplot(data=df,x='longitude_of_pickup',y='latitude_of_pickup')"
   ]
  },
  {
   "cell_type": "code",
   "execution_count": null,
   "id": "b6340c21",
   "metadata": {},
   "outputs": [],
   "source": [
    "plt.figure(figsize=(10,10))\n",
    "sns.violinplot(data=df,x=\"no_of_passenger\", y=\"amount\")\n",
    "plt.title('Fare distribution by number of passengers')\n",
    "plt.xlabel('Number of passengers')\n",
    "plt.ylabel('Fare amount')"
   ]
  },
  {
   "cell_type": "code",
   "execution_count": null,
   "id": "874d5a6c",
   "metadata": {},
   "outputs": [],
   "source": [
    "#sns.barplot(data=df, x=\"longitude_of_pickup\", y=\"longitude_of_dropoff\")"
   ]
  },
  {
   "cell_type": "code",
   "execution_count": null,
   "id": "75acee56",
   "metadata": {},
   "outputs": [],
   "source": [
    "sns.displot(df, x=\"amount\")"
   ]
  },
  {
   "cell_type": "code",
   "execution_count": null,
   "id": "2d1627c8",
   "metadata": {},
   "outputs": [],
   "source": [
    "sns.boxplot(x=\"no_of_passenger\", y=\"amount\",data=df)"
   ]
  },
  {
   "cell_type": "code",
   "execution_count": null,
   "id": "237cf944",
   "metadata": {},
   "outputs": [],
   "source": [
    "corr1=df.corr()\n",
    "corr1"
   ]
  },
  {
   "cell_type": "code",
   "execution_count": null,
   "id": "0b9189e6",
   "metadata": {},
   "outputs": [],
   "source": [
    "sns.heatmap(corr1,annot=True)"
   ]
  },
  {
   "cell_type": "code",
   "execution_count": null,
   "id": "12fc7bb3",
   "metadata": {},
   "outputs": [],
   "source": [
    "sns.pairplot(df,diag_kind='kde')"
   ]
  },
  {
   "cell_type": "markdown",
   "id": "4442993d",
   "metadata": {},
   "source": [
    "# Data Pre-processing"
   ]
  },
  {
   "cell_type": "markdown",
   "id": "8b94d0c0",
   "metadata": {},
   "source": [
    "### Checking for Missing Values"
   ]
  },
  {
   "cell_type": "code",
   "execution_count": null,
   "id": "1d8a31e8",
   "metadata": {},
   "outputs": [],
   "source": [
    "df.isnull().sum()"
   ]
  },
  {
   "cell_type": "code",
   "execution_count": null,
   "id": "392e1eac",
   "metadata": {},
   "outputs": [],
   "source": [
    "df.nunique()"
   ]
  },
  {
   "cell_type": "markdown",
   "id": "eb284e1a",
   "metadata": {},
   "source": [
    "### Checking for duplicates"
   ]
  },
  {
   "cell_type": "code",
   "execution_count": null,
   "id": "f4da3331",
   "metadata": {},
   "outputs": [],
   "source": [
    "df.duplicated().sum()"
   ]
  },
  {
   "cell_type": "code",
   "execution_count": null,
   "id": "9a093808",
   "metadata": {},
   "outputs": [],
   "source": [
    "df.duplicated()"
   ]
  },
  {
   "cell_type": "markdown",
   "id": "4142e64a",
   "metadata": {},
   "source": [
    "### Removing unnecessary columns"
   ]
  },
  {
   "cell_type": "code",
   "execution_count": null,
   "id": "611f1079",
   "metadata": {},
   "outputs": [],
   "source": [
    "df.drop(columns=['unique_id','date_time_of_pickup'],inplace=True)"
   ]
  },
  {
   "cell_type": "code",
   "execution_count": null,
   "id": "2fc2966b",
   "metadata": {},
   "outputs": [],
   "source": [
    "df.dtypes"
   ]
  },
  {
   "cell_type": "markdown",
   "id": "c25e1cd9",
   "metadata": {},
   "source": [
    "### split the data"
   ]
  },
  {
   "cell_type": "code",
   "execution_count": null,
   "id": "2eb37d2b",
   "metadata": {},
   "outputs": [],
   "source": [
    "X=df.drop('amount',axis=1)\n",
    "y=df['amount']"
   ]
  },
  {
   "cell_type": "code",
   "execution_count": null,
   "id": "5c3d8805",
   "metadata": {},
   "outputs": [],
   "source": [
    "X_train,X_test,y_train,y_test=train_test_split(X,y,test_size=0.30,random_state=1)"
   ]
  },
  {
   "cell_type": "markdown",
   "id": "f1dbf15e",
   "metadata": {},
   "source": [
    "### Outcomes of the dataset"
   ]
  },
  {
   "cell_type": "code",
   "execution_count": null,
   "id": "0b3fca4a",
   "metadata": {},
   "outputs": [],
   "source": [
    "model1=DecisionTreeRegressor()\n",
    "model1.fit(X_train,y_train)\n",
    "print(model1.score(X_train,y_train))\n",
    "print(model1.score(X_test,y_test))"
   ]
  },
  {
   "cell_type": "code",
   "execution_count": null,
   "id": "0452f8e9",
   "metadata": {},
   "outputs": [],
   "source": [
    "model2=GradientBoostingRegressor()\n",
    "model2.fit(X_train,y_train)\n",
    "print(model2.score(X_train,y_train))\n",
    "print(model2.score(X_test,y_test))"
   ]
  },
  {
   "cell_type": "code",
   "execution_count": null,
   "id": "64c2d564",
   "metadata": {},
   "outputs": [],
   "source": [
    "model3=AdaBoostRegressor()\n",
    "model3.fit(X_train,y_train)\n",
    "print(model3.score(X_train,y_train))\n",
    "print(model3.score(X_test,y_test))"
   ]
  },
  {
   "cell_type": "code",
   "execution_count": null,
   "id": "227a92b0",
   "metadata": {},
   "outputs": [],
   "source": [
    "model4=RandomForestRegressor(n_estimators=20)\n",
    "model4.fit(X_train,y_train)\n",
    "print(model4.score(X_train,y_train))\n",
    "print(model4.score(X_test,y_test))"
   ]
  },
  {
   "cell_type": "code",
   "execution_count": null,
   "id": "7562d508",
   "metadata": {},
   "outputs": [],
   "source": [
    "model5=SVR(kernel='rbf', gamma='scale)\n",
    "model5.fit(X_train,y_train)\n",
    "print(model5.score(X_train,y_train))\n",
    "print(model5.score(X_test,y_test))"
   ]
  },
  {
   "cell_type": "markdown",
   "id": "d4799f8b",
   "metadata": {},
   "source": [
    "### Conclusion\n"
   ]
  },
  {
   "cell_type": "code",
   "execution_count": null,
   "id": "560d7c91",
   "metadata": {},
   "outputs": [],
   "source": [
    "I come acrooss different algorithms to check accuracy of given "
   ]
  }
 ],
 "metadata": {
  "kernelspec": {
   "display_name": "Python 3 (ipykernel)",
   "language": "python",
   "name": "python3"
  },
  "language_info": {
   "codemirror_mode": {
    "name": "ipython",
    "version": 3
   },
   "file_extension": ".py",
   "mimetype": "text/x-python",
   "name": "python",
   "nbconvert_exporter": "python",
   "pygments_lexer": "ipython3",
   "version": "3.9.12"
  }
 },
 "nbformat": 4,
 "nbformat_minor": 5
}
